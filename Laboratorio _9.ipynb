{
  "cells": [
    {
      "cell_type": "markdown",
      "metadata": {
        "id": "view-in-github",
        "colab_type": "text"
      },
      "source": [
        "<a href=\"https://colab.research.google.com/github/Alejohenao-8/python/blob/main/Laboratorio%20_9.ipynb\" target=\"_parent\"><img src=\"https://colab.research.google.com/assets/colab-badge.svg\" alt=\"Open In Colab\"/></a>"
      ]
    },
    {
      "cell_type": "code",
      "source": [
        "#1. Identificar y contar los valores faltantes en cada columna.\n",
        "#2. Verificar el formato de la columna 'Salario' para asegurar que todos los valores sean numéricos.\n",
        "#3. Validar y estandarizar el formato de la columna 'Fecha Ingreso' a YYYY-MM-DD.\n",
        "\n",
        "import pandas as pd\n",
        "import numpy as np\n",
        "\n",
        "# Creamos el DataFrame inicial con los datos proporcionados\n",
        "data = {\n",
        "    'Nombre': ['Juan', 'Ana', 'Pedro', 'María', 'Luis', 'Ana'],\n",
        "    'Edad': [28, 34, None, 45, 38, 34],\n",
        "    'Salario': ['3000', '4000', 'cinco mil', '4500', '4000', '5000'],\n",
        "    'Fecha Ingreso': ['2021-01-15', '2020/03/12', '2022-07-01', '2021/12/01', '2021-05-20', '2020-03-12']\n",
        "}\n",
        "\n",
        "df = pd.DataFrame(data)\n",
        "\n",
        "# Paso 1: Identificar y contar valores faltantes en cada columna\n",
        "print(\"Valores faltantes por columna:\")\n",
        "print(df.isnull().sum())\n",
        "\n",
        "# Paso 2: Verificar y corregir el formato de la columna 'Salario'\n",
        "# Convertimos el valor \"cinco mil\" a un número (5000)\n",
        "def convert_salary(salario):\n",
        "    try:\n",
        "        return int(salario)  # Intenta convertir a entero\n",
        "    except ValueError:\n",
        "        if salario == \"cinco mil\":\n",
        "            return 5000  # Valor corregido\n",
        "        return np.nan  # Valor inválido, se marca como NaN\n",
        "\n",
        "df['Salario'] = df['Salario'].apply(convert_salary)\n",
        "\n",
        "print(\"\\nSalario después de la conversión:\")\n",
        "print(df['Salario'])\n",
        "\n",
        "# Paso 3: Validar y estandarizar el formato de la columna 'Fecha Ingreso'\n",
        "# Convertimos todas las fechas al formato YYYY-MM-DD\n",
        "df['Fecha Ingreso'] = pd.to_datetime(df['Fecha Ingreso'], errors='coerce').dt.strftime('%Y-%m-%d')\n",
        "\n",
        "print(\"\\nDatos después de estandarizar la fecha:\")\n",
        "print(df)\n",
        "\n",
        "# Resumen Final\n",
        "print(\"\\nResumen final de datos:\")\n",
        "print(df)"
      ],
      "metadata": {
        "colab": {
          "base_uri": "https://localhost:8080/"
        },
        "id": "GVIvt1HLPbuF",
        "outputId": "fbe990c7-03e9-4c64-909a-fddba6169d26"
      },
      "execution_count": 1,
      "outputs": [
        {
          "output_type": "stream",
          "name": "stdout",
          "text": [
            "Valores faltantes por columna:\n",
            "Nombre           0\n",
            "Edad             1\n",
            "Salario          0\n",
            "Fecha Ingreso    0\n",
            "dtype: int64\n",
            "\n",
            "Salario después de la conversión:\n",
            "0    3000\n",
            "1    4000\n",
            "2    5000\n",
            "3    4500\n",
            "4    4000\n",
            "5    5000\n",
            "Name: Salario, dtype: int64\n",
            "\n",
            "Datos después de estandarizar la fecha:\n",
            "  Nombre  Edad  Salario Fecha Ingreso\n",
            "0   Juan  28.0     3000    2021-01-15\n",
            "1    Ana  34.0     4000           NaN\n",
            "2  Pedro   NaN     5000    2022-07-01\n",
            "3  María  45.0     4500           NaN\n",
            "4   Luis  38.0     4000    2021-05-20\n",
            "5    Ana  34.0     5000    2020-03-12\n",
            "\n",
            "Resumen final de datos:\n",
            "  Nombre  Edad  Salario Fecha Ingreso\n",
            "0   Juan  28.0     3000    2021-01-15\n",
            "1    Ana  34.0     4000           NaN\n",
            "2  Pedro   NaN     5000    2022-07-01\n",
            "3  María  45.0     4500           NaN\n",
            "4   Luis  38.0     4000    2021-05-20\n",
            "5    Ana  34.0     5000    2020-03-12\n"
          ]
        }
      ]
    },
    {
      "cell_type": "code",
      "source": [
        "# 1. Identificar y contar los valores faltantes en cada columna.\n",
        "#2. Verificar el formato de la columna \"Salario\" para asegurarse de que todos los valores sean numéricos.\n",
        "#3. Validar y estandarizar el formato de la columna \"FechaIngreso\" a YYYY-MM-DD.\n",
        "#4. Verificar que no haya valores faltantes en la columna \"Cargo\".\n",
        "\n",
        "import pandas as pd\n",
        "import numpy as np\n",
        "\n",
        "# Creamos el DataFrame inicial con los datos proporcionados\n",
        "data = {\n",
        "    'Nombre': ['Juan', 'Ana', 'Pedro', 'María', 'Luis', 'Carla'],\n",
        "    'Edad': [28, None, 40, 45, 38, 34],\n",
        "    'Salario': ['3000', '4000', '4500', 'cuatro mil', '5000', '4000'],\n",
        "    'Cargo': ['Analista', 'Gerente', 'Desarrollador', 'Gerente', 'Analista', None],\n",
        "    'Fecha Ingreso': ['2021-01-15', '2020/03/12', '2022-07-01', '2021/12/01', None, '2020-03-12']\n",
        "}\n",
        "\n",
        "df = pd.DataFrame(data)\n",
        "\n",
        "# Paso 1: Identificar y contar los valores faltantes en cada columna\n",
        "print(\"Valores faltantes por columna:\")\n",
        "print(df.isnull().sum())\n",
        "\n",
        "# Paso 2: Verificar el formato de la columna 'Salario' para asegurar que todos los valores sean numéricos\n",
        "# Convertimos el valor \"cuatro mil\" a un número (4000)\n",
        "def convert_salary(salario):\n",
        "    try:\n",
        "        return int(salario)  # Intenta convertir a entero\n",
        "    except ValueError:\n",
        "        if salario == \"cuatro mil\":\n",
        "            return 4000  # Valor corregido\n",
        "        return np.nan  # Valor inválido, se marca como NaN\n",
        "\n",
        "df['Salario'] = df['Salario'].apply(convert_salary)\n",
        "\n",
        "print(\"\\nSalario después de la conversión:\")\n",
        "print(df['Salario'])\n",
        "\n",
        "# Paso 3: Validar y estandarizar el formato de la columna 'Fecha Ingreso'\n",
        "# Convertimos todas las fechas al formato YYYY-MM-DD y reemplazamos valores inválidos con NaN\n",
        "df['Fecha Ingreso'] = pd.to_datetime(df['Fecha Ingreso'], errors='coerce').dt.strftime('%Y-%m-%d')\n",
        "\n",
        "print(\"\\nDatos después de estandarizar la fecha:\")\n",
        "print(df['Fecha Ingreso'])\n",
        "\n",
        "# Paso 4: Verificar que no haya valores faltantes en la columna \"Cargo\"\n",
        "# Si encontramos valores faltantes, se reemplazarán por un mensaje\n",
        "df['Cargo'] = df['Cargo'].fillna('Cargo no especificado')\n",
        "\n",
        "print(\"\\nDatos finales después de los ajustes:\")\n",
        "print(df)"
      ],
      "metadata": {
        "colab": {
          "base_uri": "https://localhost:8080/"
        },
        "id": "h4lo_6McSrPz",
        "outputId": "021787de-7424-4e76-8942-868d9c8ca3fe"
      },
      "execution_count": 2,
      "outputs": [
        {
          "output_type": "stream",
          "name": "stdout",
          "text": [
            "Valores faltantes por columna:\n",
            "Nombre           0\n",
            "Edad             1\n",
            "Salario          0\n",
            "Cargo            1\n",
            "Fecha Ingreso    1\n",
            "dtype: int64\n",
            "\n",
            "Salario después de la conversión:\n",
            "0    3000\n",
            "1    4000\n",
            "2    4500\n",
            "3    4000\n",
            "4    5000\n",
            "5    4000\n",
            "Name: Salario, dtype: int64\n",
            "\n",
            "Datos después de estandarizar la fecha:\n",
            "0    2021-01-15\n",
            "1           NaN\n",
            "2    2022-07-01\n",
            "3           NaN\n",
            "4           NaN\n",
            "5    2020-03-12\n",
            "Name: Fecha Ingreso, dtype: object\n",
            "\n",
            "Datos finales después de los ajustes:\n",
            "  Nombre  Edad  Salario                  Cargo Fecha Ingreso\n",
            "0   Juan  28.0     3000               Analista    2021-01-15\n",
            "1    Ana   NaN     4000                Gerente           NaN\n",
            "2  Pedro  40.0     4500          Desarrollador    2022-07-01\n",
            "3  María  45.0     4000                Gerente           NaN\n",
            "4   Luis  38.0     5000               Analista           NaN\n",
            "5  Carla  34.0     4000  Cargo no especificado    2020-03-12\n"
          ]
        }
      ]
    },
    {
      "cell_type": "code",
      "source": [
        "#1. Crear un DataFrame con productos y precios.\n",
        "#2. Producto: Producto A, Producto B,Producto C,Producto D.\n",
        "#3. Precio:150, -25, 100, None.\n",
        "#4. Validar que todos los precios sean mayores o iguales a cero y no nulos.\n",
        "#5. Mostrar los productos con precios inválidos.\n",
        "\n",
        "import pandas as pd\n",
        "\n",
        "# Paso 1: Crear un DataFrame con productos y precios\n",
        "data = {\n",
        "    'Producto': ['Producto A', 'Producto B', 'Producto C', 'Producto D'],\n",
        "    'Precio': [150, -25, 100, None]\n",
        "}\n",
        "df = pd.DataFrame(data)\n",
        "\n",
        "# Paso 2: Validar que todos los precios sean mayores o iguales a cero y no nulos\n",
        "# Filtramos los productos con precios inválidos (negativos o nulos)\n",
        "precios_invalidos = df[(df['Precio'] < 0) | (df['Precio'].isnull())]\n",
        "\n",
        "# Paso 3: Mostrar los productos con precios inválidos\n",
        "print(\"Productos con precios inválidos:\")\n",
        "print(precios_invalidos)"
      ],
      "metadata": {
        "colab": {
          "base_uri": "https://localhost:8080/"
        },
        "id": "0wQ-ZBdFUA5G",
        "outputId": "b420daac-a617-44c4-81be-20911cb47bb3"
      },
      "execution_count": 4,
      "outputs": [
        {
          "output_type": "stream",
          "name": "stdout",
          "text": [
            "Productos con precios inválidos:\n",
            "     Producto  Precio\n",
            "1  Producto B   -25.0\n",
            "3  Producto D     NaN\n"
          ]
        }
      ]
    },
    {
      "cell_type": "code",
      "source": [
        "#1. Crear un DataFrame con información de clientes.\n",
        "#2. ID Cliente:1, 2, 3, 2, 4.\n",
        "#3. Nombre: Ana, Luis, María, Luis, Carlos\n",
        "#4. Verificar si hay duplicados en la columna de ID del cliente.\n",
        "#5. Mostrar los registros duplicados.\n",
        "\n",
        "import pandas as pd\n",
        "\n",
        "# Crear un DataFrame con la información de clientes\n",
        "data = {\n",
        "    'ID Cliente': [1, 2, 3, 2, 4],\n",
        "    'Nombre': ['Ana', 'Luis', 'María', 'Luis', 'Carlos']\n",
        "}\n",
        "\n",
        "df = pd.DataFrame(data)\n",
        "\n",
        "# Verificar si hay duplicados en la columna de ID Cliente\n",
        "duplicados = df[df.duplicated(subset='ID Cliente', keep=False)]\n",
        "\n",
        "# Mostrar los registros duplicados\n",
        "print(duplicados)"
      ],
      "metadata": {
        "colab": {
          "base_uri": "https://localhost:8080/"
        },
        "id": "m8BJ26o3TWrF",
        "outputId": "93e93966-1524-4e79-c3f8-2b2e07dbe0b0"
      },
      "execution_count": 5,
      "outputs": [
        {
          "output_type": "stream",
          "name": "stdout",
          "text": [
            "   ID Cliente Nombre\n",
            "1           2   Luis\n",
            "3           2   Luis\n"
          ]
        }
      ]
    },
    {
      "cell_type": "code",
      "source": [
        "#1. Crear una cadena con datos sensibles (un número de tarjeta 1234-5678-9101-1121).\n",
        "#2. Encriptar esos datos utilizando una clave generada.\n",
        "#3. Desencriptar los datos y mostrar ambos (encriptado y desencriptado).\n",
        "\n",
        "from cryptography.fernet import Fernet\n",
        "\n",
        "# 1. Crear una cadena con datos sensibles (número de tarjeta)\n",
        "numero_tarjeta = \"1234-5678-9101-1121\"\n",
        "\n",
        "# 2. Generar una clave para la encriptación\n",
        "clave = Fernet.generate_key()\n",
        "\n",
        "# Crear un objeto Fernet con la clave generada\n",
        "cifrado = Fernet(clave)\n",
        "\n",
        "# 3. Encriptar los datos sensibles\n",
        "numero_tarjeta_encriptado = cifrado.encrypt(numero_tarjeta.encode())\n",
        "\n",
        "# 4. Desencriptar los datos\n",
        "numero_tarjeta_desencriptado = cifrado.decrypt(numero_tarjeta_encriptado).decode()\n",
        "\n",
        "# Mostrar resultados\n",
        "print(\"Número de tarjeta encriptado:\", numero_tarjeta_encriptado)\n",
        "print(\"Número de tarjeta desencriptado:\", numero_tarjeta_desencriptado)"
      ],
      "metadata": {
        "colab": {
          "base_uri": "https://localhost:8080/"
        },
        "id": "wCfAXgy8VKgh",
        "outputId": "de8a827c-7ff6-4db4-a3bf-c65640497468"
      },
      "execution_count": 6,
      "outputs": [
        {
          "output_type": "stream",
          "name": "stdout",
          "text": [
            "Número de tarjeta encriptado: b'gAAAAABnNVU-81jzJyP1U5j1v4Gb0T3BFylqEyDVeRqhEH9QffrJ7ORJyqHTrd37gqURbXsnvoa-OrbaY59cJG7dcMMaSUQ8QtGlWflh2899wZ2HeT6lXaI='\n",
            "Número de tarjeta desencriptado: 1234-5678-9101-1121\n"
          ]
        }
      ]
    }
  ],
  "metadata": {
    "colab": {
      "name": "Welcome To Colab",
      "toc_visible": true,
      "provenance": [],
      "include_colab_link": true
    },
    "kernelspec": {
      "display_name": "Python 3",
      "name": "python3"
    }
  },
  "nbformat": 4,
  "nbformat_minor": 0
}