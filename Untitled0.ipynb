{
  "nbformat": 4,
  "nbformat_minor": 0,
  "metadata": {
    "colab": {
      "provenance": [],
      "authorship_tag": "ABX9TyP6tpMI/BkhE6yod+cp3QN0",
      "include_colab_link": true
    },
    "kernelspec": {
      "name": "python3",
      "display_name": "Python 3"
    },
    "language_info": {
      "name": "python"
    }
  },
  "cells": [
    {
      "cell_type": "markdown",
      "metadata": {
        "id": "view-in-github",
        "colab_type": "text"
      },
      "source": [
        "<a href=\"https://colab.research.google.com/github/Alejohenao-8/python/blob/main/Untitled0.ipynb\" target=\"_parent\"><img src=\"https://colab.research.google.com/assets/colab-badge.svg\" alt=\"Open In Colab\"/></a>"
      ]
    },
    {
      "cell_type": "code",
      "execution_count": 1,
      "metadata": {
        "colab": {
          "base_uri": "https://localhost:8080/"
        },
        "id": "qjVUNmS-Gk9T",
        "outputId": "dd2b6757-9c30-42a3-8400-b13a2f43ea05"
      },
      "outputs": [
        {
          "output_type": "stream",
          "name": "stdout",
          "text": [
            "1. Calentar agua hasta que hierva.\n",
            "2. Colocar una bolsita de té en una taza.\n",
            "3. Verter el agua caliente en la taza.\n",
            "4. Dejar reposar el té durante unos minutos.\n",
            "5. Retirar la bolsita de té.\n",
            "6. Agregar azúcar o miel al gusto (opcional).\n",
            "7. Revolver y disfrutar.\n"
          ]
        }
      ],
      "source": [
        "def preparar_te():\n",
        "    print(\"1. Calentar agua hasta que hierva.\")\n",
        "    print(\"2. Colocar una bolsita de té en una taza.\")\n",
        "    print(\"3. Verter el agua caliente en la taza.\")\n",
        "    print(\"4. Dejar reposar el té durante unos minutos.\")\n",
        "    print(\"5. Retirar la bolsita de té.\")\n",
        "    print(\"6. Agregar azúcar o miel al gusto (opcional).\")\n",
        "    print(\"7. Revolver y disfrutar.\")\n",
        "\n",
        "preparar_te()"
      ]
    },
    {
      "cell_type": "code",
      "source": [
        "# Definir las notas del estudiante\n",
        "nota1 = 85\n",
        "nota2 = 90\n",
        "nota3 = 78\n",
        "nota4 = 92\n",
        "\n",
        "# Calcular el promedio\n",
        "promedio = (nota1 + nota2 + nota3 + nota4) / 4\n",
        "\n",
        "# Mostrar el resultado\n",
        "print(\"El promedio de las notas es:\", promedio)"
      ],
      "metadata": {
        "colab": {
          "base_uri": "https://localhost:8080/"
        },
        "id": "5lHzxYr5XwlS",
        "outputId": "b6b6732c-5dea-45d3-c093-88e3c98df61a"
      },
      "execution_count": 2,
      "outputs": [
        {
          "output_type": "stream",
          "name": "stdout",
          "text": [
            "El promedio de las notas es: 86.25\n"
          ]
        }
      ]
    }
  ]
}