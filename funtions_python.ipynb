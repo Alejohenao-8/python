{
  "nbformat": 4,
  "nbformat_minor": 0,
  "metadata": {
    "colab": {
      "provenance": [],
      "authorship_tag": "ABX9TyP6TF4Gmq0dDK9BC+4I7IaB",
      "include_colab_link": true
    },
    "kernelspec": {
      "name": "python3",
      "display_name": "Python 3"
    },
    "language_info": {
      "name": "python"
    }
  },
  "cells": [
    {
      "cell_type": "markdown",
      "metadata": {
        "id": "view-in-github",
        "colab_type": "text"
      },
      "source": [
        "<a href=\"https://colab.research.google.com/github/Alejohenao-8/python/blob/main/funtions_python.ipynb\" target=\"_parent\"><img src=\"https://colab.research.google.com/assets/colab-badge.svg\" alt=\"Open In Colab\"/></a>"
      ]
    },
    {
      "cell_type": "code",
      "execution_count": null,
      "metadata": {
        "colab": {
          "base_uri": "https://localhost:8080/"
        },
        "id": "euMDKg7M6mQ1",
        "outputId": "73090ae8-176f-4189-e276-fab8931c2eeb"
      },
      "outputs": [
        {
          "output_type": "stream",
          "name": "stdout",
          "text": [
            "   Nombre   Profesión       País\n",
            "0     Ana     Abogada     España\n",
            "1    Juan   Ingeniero     México\n",
            "2  Carlos      Médico  Argentina\n",
            "3   Laura  Diseñadora   Colombia\n",
            "4  Miguel    Profesor      Chile\n",
            "5   Sofía   Psicóloga       Perú\n",
            "6   David  Arquitecto     Brasil\n",
            "7   Carla     Artista    Uruguay\n"
          ]
        }
      ],
      "source": [
        "import pandas as pd\n",
        "\n",
        "# Crear un diccionario con los datos\n",
        "data = {\n",
        "    'Nombre': ['Ana', 'Juan', 'Carlos', 'Laura', 'Miguel', 'Sofía', 'David', 'Carla'],\n",
        "    'Profesión': ['Abogada', 'Ingeniero', 'Médico', 'Diseñadora', 'Profesor', 'Psicóloga', 'Arquitecto', 'Artista'],\n",
        "    'País': ['España', 'México', 'Argentina', 'Colombia', 'Chile', 'Perú', 'Brasil', 'Uruguay']\n",
        "}\n",
        "\n",
        "# Crear el DataFrame\n",
        "df = pd.DataFrame(data)\n",
        "\n",
        "# Imprimir el DataFrame\n",
        "print(df)"
      ]
    },
    {
      "cell_type": "code",
      "source": [
        "from google.colab import files\n",
        "import pandas as pd\n",
        "\n",
        "# Subir archivo desde tu computadora\n",
        "uploaded = files.upload()\n",
        "\n",
        "# Cargar y mostrar las primeras 5 filas\n",
        "df = pd.read_csv(next(iter(uploaded)))\n",
        "print(df.head())"
      ],
      "metadata": {
        "colab": {
          "base_uri": "https://localhost:8080/",
          "height": 177
        },
        "id": "7fGAP2duwPBn",
        "outputId": "79111ccd-d397-44c7-dae3-cb8efe757def"
      },
      "execution_count": 1,
      "outputs": [
        {
          "output_type": "display_data",
          "data": {
            "text/plain": [
              "<IPython.core.display.HTML object>"
            ],
            "text/html": [
              "\n",
              "     <input type=\"file\" id=\"files-5f074037-f5a1-4ccb-b183-3dec411597ec\" name=\"files[]\" multiple disabled\n",
              "        style=\"border:none\" />\n",
              "     <output id=\"result-5f074037-f5a1-4ccb-b183-3dec411597ec\">\n",
              "      Upload widget is only available when the cell has been executed in the\n",
              "      current browser session. Please rerun this cell to enable.\n",
              "      </output>\n",
              "      <script>// Copyright 2017 Google LLC\n",
              "//\n",
              "// Licensed under the Apache License, Version 2.0 (the \"License\");\n",
              "// you may not use this file except in compliance with the License.\n",
              "// You may obtain a copy of the License at\n",
              "//\n",
              "//      http://www.apache.org/licenses/LICENSE-2.0\n",
              "//\n",
              "// Unless required by applicable law or agreed to in writing, software\n",
              "// distributed under the License is distributed on an \"AS IS\" BASIS,\n",
              "// WITHOUT WARRANTIES OR CONDITIONS OF ANY KIND, either express or implied.\n",
              "// See the License for the specific language governing permissions and\n",
              "// limitations under the License.\n",
              "\n",
              "/**\n",
              " * @fileoverview Helpers for google.colab Python module.\n",
              " */\n",
              "(function(scope) {\n",
              "function span(text, styleAttributes = {}) {\n",
              "  const element = document.createElement('span');\n",
              "  element.textContent = text;\n",
              "  for (const key of Object.keys(styleAttributes)) {\n",
              "    element.style[key] = styleAttributes[key];\n",
              "  }\n",
              "  return element;\n",
              "}\n",
              "\n",
              "// Max number of bytes which will be uploaded at a time.\n",
              "const MAX_PAYLOAD_SIZE = 100 * 1024;\n",
              "\n",
              "function _uploadFiles(inputId, outputId) {\n",
              "  const steps = uploadFilesStep(inputId, outputId);\n",
              "  const outputElement = document.getElementById(outputId);\n",
              "  // Cache steps on the outputElement to make it available for the next call\n",
              "  // to uploadFilesContinue from Python.\n",
              "  outputElement.steps = steps;\n",
              "\n",
              "  return _uploadFilesContinue(outputId);\n",
              "}\n",
              "\n",
              "// This is roughly an async generator (not supported in the browser yet),\n",
              "// where there are multiple asynchronous steps and the Python side is going\n",
              "// to poll for completion of each step.\n",
              "// This uses a Promise to block the python side on completion of each step,\n",
              "// then passes the result of the previous step as the input to the next step.\n",
              "function _uploadFilesContinue(outputId) {\n",
              "  const outputElement = document.getElementById(outputId);\n",
              "  const steps = outputElement.steps;\n",
              "\n",
              "  const next = steps.next(outputElement.lastPromiseValue);\n",
              "  return Promise.resolve(next.value.promise).then((value) => {\n",
              "    // Cache the last promise value to make it available to the next\n",
              "    // step of the generator.\n",
              "    outputElement.lastPromiseValue = value;\n",
              "    return next.value.response;\n",
              "  });\n",
              "}\n",
              "\n",
              "/**\n",
              " * Generator function which is called between each async step of the upload\n",
              " * process.\n",
              " * @param {string} inputId Element ID of the input file picker element.\n",
              " * @param {string} outputId Element ID of the output display.\n",
              " * @return {!Iterable<!Object>} Iterable of next steps.\n",
              " */\n",
              "function* uploadFilesStep(inputId, outputId) {\n",
              "  const inputElement = document.getElementById(inputId);\n",
              "  inputElement.disabled = false;\n",
              "\n",
              "  const outputElement = document.getElementById(outputId);\n",
              "  outputElement.innerHTML = '';\n",
              "\n",
              "  const pickedPromise = new Promise((resolve) => {\n",
              "    inputElement.addEventListener('change', (e) => {\n",
              "      resolve(e.target.files);\n",
              "    });\n",
              "  });\n",
              "\n",
              "  const cancel = document.createElement('button');\n",
              "  inputElement.parentElement.appendChild(cancel);\n",
              "  cancel.textContent = 'Cancel upload';\n",
              "  const cancelPromise = new Promise((resolve) => {\n",
              "    cancel.onclick = () => {\n",
              "      resolve(null);\n",
              "    };\n",
              "  });\n",
              "\n",
              "  // Wait for the user to pick the files.\n",
              "  const files = yield {\n",
              "    promise: Promise.race([pickedPromise, cancelPromise]),\n",
              "    response: {\n",
              "      action: 'starting',\n",
              "    }\n",
              "  };\n",
              "\n",
              "  cancel.remove();\n",
              "\n",
              "  // Disable the input element since further picks are not allowed.\n",
              "  inputElement.disabled = true;\n",
              "\n",
              "  if (!files) {\n",
              "    return {\n",
              "      response: {\n",
              "        action: 'complete',\n",
              "      }\n",
              "    };\n",
              "  }\n",
              "\n",
              "  for (const file of files) {\n",
              "    const li = document.createElement('li');\n",
              "    li.append(span(file.name, {fontWeight: 'bold'}));\n",
              "    li.append(span(\n",
              "        `(${file.type || 'n/a'}) - ${file.size} bytes, ` +\n",
              "        `last modified: ${\n",
              "            file.lastModifiedDate ? file.lastModifiedDate.toLocaleDateString() :\n",
              "                                    'n/a'} - `));\n",
              "    const percent = span('0% done');\n",
              "    li.appendChild(percent);\n",
              "\n",
              "    outputElement.appendChild(li);\n",
              "\n",
              "    const fileDataPromise = new Promise((resolve) => {\n",
              "      const reader = new FileReader();\n",
              "      reader.onload = (e) => {\n",
              "        resolve(e.target.result);\n",
              "      };\n",
              "      reader.readAsArrayBuffer(file);\n",
              "    });\n",
              "    // Wait for the data to be ready.\n",
              "    let fileData = yield {\n",
              "      promise: fileDataPromise,\n",
              "      response: {\n",
              "        action: 'continue',\n",
              "      }\n",
              "    };\n",
              "\n",
              "    // Use a chunked sending to avoid message size limits. See b/62115660.\n",
              "    let position = 0;\n",
              "    do {\n",
              "      const length = Math.min(fileData.byteLength - position, MAX_PAYLOAD_SIZE);\n",
              "      const chunk = new Uint8Array(fileData, position, length);\n",
              "      position += length;\n",
              "\n",
              "      const base64 = btoa(String.fromCharCode.apply(null, chunk));\n",
              "      yield {\n",
              "        response: {\n",
              "          action: 'append',\n",
              "          file: file.name,\n",
              "          data: base64,\n",
              "        },\n",
              "      };\n",
              "\n",
              "      let percentDone = fileData.byteLength === 0 ?\n",
              "          100 :\n",
              "          Math.round((position / fileData.byteLength) * 100);\n",
              "      percent.textContent = `${percentDone}% done`;\n",
              "\n",
              "    } while (position < fileData.byteLength);\n",
              "  }\n",
              "\n",
              "  // All done.\n",
              "  yield {\n",
              "    response: {\n",
              "      action: 'complete',\n",
              "    }\n",
              "  };\n",
              "}\n",
              "\n",
              "scope.google = scope.google || {};\n",
              "scope.google.colab = scope.google.colab || {};\n",
              "scope.google.colab._files = {\n",
              "  _uploadFiles,\n",
              "  _uploadFilesContinue,\n",
              "};\n",
              "})(self);\n",
              "</script> "
            ]
          },
          "metadata": {}
        },
        {
          "output_type": "stream",
          "name": "stdout",
          "text": [
            "Saving Nombre.csv to Nombre.csv\n",
            "   Nombre  Edad Departamento  Sueldo\n",
            "0     Ana    29    Marketing    3000\n",
            "1    Juan    34     Finanzas    3500\n",
            "2  Carlos    45           TI    4000\n",
            "3   Laura    29    Marketing    3100\n",
            "4  Miguel    38     Finanzas    3600\n"
          ]
        }
      ]
    },
    {
      "cell_type": "code",
      "source": [
        "import pandas as pd\n",
        "import numpy as np\n",
        "\n",
        "# Crear el DataFrame con valores aleatorios\n",
        "df = pd.DataFrame(np.random.rand(100, 8), columns=[f'Col_{i+1}' for i in range(8)])\n",
        "\n",
        "# Mostrar el DataFrame\n",
        "print(\"Primeras filas del DataFrame:\")\n",
        "print(df.head())\n",
        "\n",
        "# Mostrar el resumen estadístico\n",
        "print(\"\\nResumen estadístico del DataFrame:\")\n",
        "print(df.describe())"
      ],
      "metadata": {
        "colab": {
          "base_uri": "https://localhost:8080/"
        },
        "id": "n4TII28Q0Jfj",
        "outputId": "3ba896b6-f0c3-48eb-e1da-50002f40fca7"
      },
      "execution_count": 2,
      "outputs": [
        {
          "output_type": "stream",
          "name": "stdout",
          "text": [
            "Primeras filas del DataFrame:\n",
            "      Col_1     Col_2     Col_3     Col_4     Col_5     Col_6     Col_7  \\\n",
            "0  0.537767  0.293877  0.821715  0.957680  0.379176  0.026833  0.102536   \n",
            "1  0.715160  0.093174  0.224810  0.546837  0.185512  0.118347  0.359653   \n",
            "2  0.935300  0.197827  0.462768  0.966572  0.432880  0.995336  0.066520   \n",
            "3  0.070449  0.931208  0.610444  0.841761  0.618538  0.220801  0.063737   \n",
            "4  0.404471  0.999354  0.633429  0.476568  0.030074  0.778984  0.401259   \n",
            "\n",
            "      Col_8  \n",
            "0  0.540710  \n",
            "1  0.962175  \n",
            "2  0.136650  \n",
            "3  0.140585  \n",
            "4  0.263405  \n",
            "\n",
            "Resumen estadístico del DataFrame:\n",
            "            Col_1       Col_2       Col_3       Col_4       Col_5       Col_6  \\\n",
            "count  100.000000  100.000000  100.000000  100.000000  100.000000  100.000000   \n",
            "mean     0.507741    0.508156    0.525680    0.454292    0.530831    0.537800   \n",
            "std      0.307226    0.288635    0.275652    0.278059    0.274648    0.311246   \n",
            "min      0.000776    0.008756    0.010863    0.000186    0.003905    0.000320   \n",
            "25%      0.266872    0.274695    0.309079    0.217167    0.296261    0.269864   \n",
            "50%      0.461893    0.514704    0.490363    0.446204    0.550427    0.557054   \n",
            "75%      0.807838    0.749209    0.759662    0.671353    0.732388    0.815694   \n",
            "max      0.998808    0.999354    0.998871    0.976375    0.999536    0.997854   \n",
            "\n",
            "            Col_7       Col_8  \n",
            "count  100.000000  100.000000  \n",
            "mean     0.531796    0.473754  \n",
            "std      0.308849    0.279241  \n",
            "min      0.000702    0.013603  \n",
            "25%      0.259968    0.219575  \n",
            "50%      0.545525    0.458703  \n",
            "75%      0.823574    0.686102  \n",
            "max      0.994052    0.980396  \n"
          ]
        }
      ]
    },
    {
      "cell_type": "code",
      "source": [
        "import numpy as np\n",
        "\n",
        "# Crear un array de números del 1 al 10\n",
        "array = np.arange(1, 11)\n",
        "\n",
        "# Calcular la suma, media y valor máximo\n",
        "suma = np.sum(array)\n",
        "media = np.mean(array)\n",
        "valor_maximo = np.max(array)\n",
        "\n",
        "# Mostrar los resultados\n",
        "print(\"Array:\", array)\n",
        "print(\"Suma:\", suma)\n",
        "print(\"Media:\", media)\n",
        "print(\"Valor máximo:\", valor_maximo)"
      ],
      "metadata": {
        "colab": {
          "base_uri": "https://localhost:8080/"
        },
        "id": "seB2O3D71DVF",
        "outputId": "cade7a7b-a910-4749-a17c-947f93dcb4a4"
      },
      "execution_count": 3,
      "outputs": [
        {
          "output_type": "stream",
          "name": "stdout",
          "text": [
            "Array: [ 1  2  3  4  5  6  7  8  9 10]\n",
            "Suma: 55\n",
            "Media: 5.5\n",
            "Valor máximo: 10\n"
          ]
        }
      ]
    },
    {
      "cell_type": "code",
      "source": [
        "import numpy as np\n",
        "\n",
        "# Crear un array de 3x4 lleno de ceros\n",
        "array = np.zeros((3, 4))\n",
        "print(\"Array original (3x4):\\n\", array)\n",
        "\n",
        "# Cambiar la forma del array a 2x6\n",
        "array_reshaped = array.reshape(2, 6)\n",
        "print(\"\\nArray reshaped (2x6):\\n\", array_reshaped)"
      ],
      "metadata": {
        "colab": {
          "base_uri": "https://localhost:8080/"
        },
        "id": "AwhCopM91eJP",
        "outputId": "4208f677-6cf8-4b6d-915b-51a224de3e0e"
      },
      "execution_count": 4,
      "outputs": [
        {
          "output_type": "stream",
          "name": "stdout",
          "text": [
            "Array original (3x4):\n",
            " [[0. 0. 0. 0.]\n",
            " [0. 0. 0. 0.]\n",
            " [0. 0. 0. 0.]]\n",
            "\n",
            "Array reshaped (2x6):\n",
            " [[0. 0. 0. 0. 0. 0.]\n",
            " [0. 0. 0. 0. 0. 0.]]\n"
          ]
        }
      ]
    },
    {
      "cell_type": "code",
      "source": [
        "import numpy as np\n",
        "\n",
        "# Generar una matriz aleatoria de 3x3\n",
        "matriz = np.random.rand(3, 3)\n",
        "print(\"Matriz aleatoria (3x3):\\n\", matriz)\n",
        "\n",
        "# Calcular la transpuesta de la matriz\n",
        "matriz_transpuesta = matriz.T\n",
        "print(\"\\nMatriz transpuesta:\\n\", matriz_transpuesta)"
      ],
      "metadata": {
        "id": "mwSXzw3v13v-",
        "outputId": "2f23ab47-cbcb-465f-bb0f-13722ea36f4d",
        "colab": {
          "base_uri": "https://localhost:8080/"
        }
      },
      "execution_count": 5,
      "outputs": [
        {
          "output_type": "stream",
          "name": "stdout",
          "text": [
            "Matriz aleatoria (3x3):\n",
            " [[0.24735961 0.47487982 0.81341726]\n",
            " [0.15978261 0.79860412 0.41618197]\n",
            " [0.07147714 0.45033885 0.04182757]]\n",
            "\n",
            "Matriz transpuesta:\n",
            " [[0.24735961 0.15978261 0.07147714]\n",
            " [0.47487982 0.79860412 0.45033885]\n",
            " [0.81341726 0.41618197 0.04182757]]\n"
          ]
        }
      ]
    }
  ]
}