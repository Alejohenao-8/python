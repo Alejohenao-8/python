{
  "nbformat": 4,
  "nbformat_minor": 0,
  "metadata": {
    "colab": {
      "provenance": [],
      "authorship_tag": "ABX9TyMp2ySWzbX9DXiUm/5orQQC",
      "include_colab_link": true
    },
    "kernelspec": {
      "name": "python3",
      "display_name": "Python 3"
    },
    "language_info": {
      "name": "python"
    }
  },
  "cells": [
    {
      "cell_type": "markdown",
      "metadata": {
        "id": "view-in-github",
        "colab_type": "text"
      },
      "source": [
        "<a href=\"https://colab.research.google.com/github/Alejohenao-8/python/blob/main/funtions_python.ipynb\" target=\"_parent\"><img src=\"https://colab.research.google.com/assets/colab-badge.svg\" alt=\"Open In Colab\"/></a>"
      ]
    },
    {
      "cell_type": "code",
      "execution_count": 1,
      "metadata": {
        "colab": {
          "base_uri": "https://localhost:8080/"
        },
        "id": "euMDKg7M6mQ1",
        "outputId": "73090ae8-176f-4189-e276-fab8931c2eeb"
      },
      "outputs": [
        {
          "output_type": "stream",
          "name": "stdout",
          "text": [
            "   Nombre   Profesión       País\n",
            "0     Ana     Abogada     España\n",
            "1    Juan   Ingeniero     México\n",
            "2  Carlos      Médico  Argentina\n",
            "3   Laura  Diseñadora   Colombia\n",
            "4  Miguel    Profesor      Chile\n",
            "5   Sofía   Psicóloga       Perú\n",
            "6   David  Arquitecto     Brasil\n",
            "7   Carla     Artista    Uruguay\n"
          ]
        }
      ],
      "source": [
        "import pandas as pd\n",
        "\n",
        "# Crear un diccionario con los datos\n",
        "data = {\n",
        "    'Nombre': ['Ana', 'Juan', 'Carlos', 'Laura', 'Miguel', 'Sofía', 'David', 'Carla'],\n",
        "    'Profesión': ['Abogada', 'Ingeniero', 'Médico', 'Diseñadora', 'Profesor', 'Psicóloga', 'Arquitecto', 'Artista'],\n",
        "    'País': ['España', 'México', 'Argentina', 'Colombia', 'Chile', 'Perú', 'Brasil', 'Uruguay']\n",
        "}\n",
        "\n",
        "# Crear el DataFrame\n",
        "df = pd.DataFrame(data)\n",
        "\n",
        "# Imprimir el DataFrame\n",
        "print(df)"
      ]
    }
  ]
}