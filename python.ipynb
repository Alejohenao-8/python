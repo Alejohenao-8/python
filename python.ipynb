{
  "nbformat": 4,
  "nbformat_minor": 0,
  "metadata": {
    "colab": {
      "provenance": [],
      "authorship_tag": "ABX9TyMzawkhaco1U77eHtLW63iU",
      "include_colab_link": true
    },
    "kernelspec": {
      "name": "python3",
      "display_name": "Python 3"
    },
    "language_info": {
      "name": "python"
    }
  },
  "cells": [
    {
      "cell_type": "markdown",
      "metadata": {
        "id": "view-in-github",
        "colab_type": "text"
      },
      "source": [
        "<a href=\"https://colab.research.google.com/github/Alejohenao-8/python/blob/main/Untitled0.ipynb\" target=\"_parent\"><img src=\"https://colab.research.google.com/assets/colab-badge.svg\" alt=\"Open In Colab\"/></a>"
      ]
    },
    {
      "cell_type": "code",
      "execution_count": 1,
      "metadata": {
        "colab": {
          "base_uri": "https://localhost:8080/"
        },
        "id": "qjVUNmS-Gk9T",
        "outputId": "dd2b6757-9c30-42a3-8400-b13a2f43ea05"
      },
      "outputs": [
        {
          "output_type": "stream",
          "name": "stdout",
          "text": [
            "1. Calentar agua hasta que hierva.\n",
            "2. Colocar una bolsita de té en una taza.\n",
            "3. Verter el agua caliente en la taza.\n",
            "4. Dejar reposar el té durante unos minutos.\n",
            "5. Retirar la bolsita de té.\n",
            "6. Agregar azúcar o miel al gusto (opcional).\n",
            "7. Revolver y disfrutar.\n"
          ]
        }
      ],
      "source": [
        "def preparar_te():\n",
        "    print(\"1. Calentar agua hasta que hierva.\")\n",
        "    print(\"2. Colocar una bolsita de té en una taza.\")\n",
        "    print(\"3. Verter el agua caliente en la taza.\")\n",
        "    print(\"4. Dejar reposar el té durante unos minutos.\")\n",
        "    print(\"5. Retirar la bolsita de té.\")\n",
        "    print(\"6. Agregar azúcar o miel al gusto (opcional).\")\n",
        "    print(\"7. Revolver y disfrutar.\")\n",
        "\n",
        "preparar_te()"
      ]
    },
    {
      "cell_type": "code",
      "source": [
        "# Definir las notas del estudiante\n",
        "nota1 = 85\n",
        "nota2 = 90\n",
        "nota3 = 78\n",
        "nota4 = 92\n",
        "\n",
        "# Calcular el promedio\n",
        "promedio = (nota1 + nota2 + nota3 + nota4) / 4\n",
        "\n",
        "# Mostrar el resultado\n",
        "print(\"El promedio de las notas es:\", promedio)"
      ],
      "metadata": {
        "colab": {
          "base_uri": "https://localhost:8080/"
        },
        "id": "5lHzxYr5XwlS",
        "outputId": "b6b6732c-5dea-45d3-c093-88e3c98df61a"
      },
      "execution_count": 2,
      "outputs": [
        {
          "output_type": "stream",
          "name": "stdout",
          "text": [
            "El promedio de las notas es: 86.25\n"
          ]
        }
      ]
    },
    {
      "cell_type": "code",
      "source": [
        "# Solicitar el número al usuario\n",
        "numero = int(input(\"Ingresa un número: \"))\n",
        "\n",
        "# Verificar si es par o impar\n",
        "if numero % 2 == 0:\n",
        "    print(\"El número es par.\")\n",
        "else:\n",
        "    print(\"El número es impar.\")"
      ],
      "metadata": {
        "colab": {
          "base_uri": "https://localhost:8080/"
        },
        "id": "PqCECoq4ZLMK",
        "outputId": "bccb3b98-b942-4082-e6f4-6e0eee62af44"
      },
      "execution_count": 3,
      "outputs": [
        {
          "output_type": "stream",
          "name": "stdout",
          "text": [
            "Ingresa un número: 1\n",
            "El número es impar.\n"
          ]
        }
      ]
    },
    {
      "cell_type": "code",
      "source": [
        "# Bucle for para imprimir los números del 1 al 5 y verificar si son pares o impares\n",
        "for i in range(1, 6):\n",
        "    # Verificar si el número es par o impar usando el operador módulo (%)\n",
        "    if i % 2 == 0:\n",
        "        print(f\"{i} es par\")\n",
        "    else:\n",
        "        print(f\"{i} es impar\")"
      ],
      "metadata": {
        "colab": {
          "base_uri": "https://localhost:8080/"
        },
        "id": "sMe4lQ0dZuli",
        "outputId": "ae9c58b1-df05-48eb-fd55-b086636dbc80"
      },
      "execution_count": 6,
      "outputs": [
        {
          "output_type": "stream",
          "name": "stdout",
          "text": [
            "1 es impar\n",
            "2 es par\n",
            "3 es impar\n",
            "4 es par\n",
            "5 es impar\n"
          ]
        }
      ]
    },
    {
      "cell_type": "code",
      "source": [
        "# Función para convertir grados Celsius a Fahrenheit\n",
        "def celsius_a_fahrenheit(celsius):\n",
        "    fahrenheit = (celsius * 9/5) + 32\n",
        "    return fahrenheit\n",
        "\n",
        "# Ejemplo de uso de la función\n",
        "celsius = 25  # Puedes cambiar este valor para probar con otros grados Celsius\n",
        "fahrenheit = celsius_a_fahrenheit(celsius)\n",
        "\n",
        "print(f\"{celsius} grados Celsius son {fahrenheit} grados Fahrenheit.\")"
      ],
      "metadata": {
        "colab": {
          "base_uri": "https://localhost:8080/"
        },
        "id": "uQyEnlDKaT1u",
        "outputId": "821602e6-428b-4470-f41b-65d192782841"
      },
      "execution_count": 7,
      "outputs": [
        {
          "output_type": "stream",
          "name": "stdout",
          "text": [
            "25 grados Celsius son 77.0 grados Fahrenheit.\n"
          ]
        }
      ]
    },
    {
      "cell_type": "code",
      "source": [
        "# Función para contar las vocales en una cadena de texto\n",
        "def contar_vocales(texto):\n",
        "    # Definir las vocales\n",
        "    vocales = \"aeiouAEIOU\"\n",
        "    contador = 0\n",
        "\n",
        "    # Bucle for para recorrer cada carácter del texto\n",
        "    for char in texto:\n",
        "        # Condicional para verificar si el carácter es una vocal\n",
        "        if char in vocales:\n",
        "            contador += 1\n",
        "\n",
        "    return contador\n",
        "\n",
        "# Solicitar la cadena de texto al usuario\n",
        "texto_usuario = input(\"Ingresa una cadena de texto: \")\n",
        "\n",
        "# Llamar a la función y mostrar el resultado\n",
        "cantidad_vocales = contar_vocales(texto_usuario)\n",
        "print(f\"La cantidad de vocales en la cadena es: {cantidad_vocales}\")"
      ],
      "metadata": {
        "colab": {
          "base_uri": "https://localhost:8080/"
        },
        "id": "GOilDa6xalAm",
        "outputId": "ddae8085-24ca-4813-a711-9fc636244b2b"
      },
      "execution_count": 10,
      "outputs": [
        {
          "output_type": "stream",
          "name": "stdout",
          "text": [
            "Ingresa una cadena de texto: alejandro\n",
            "La cantidad de vocales en la cadena es: 4\n"
          ]
        }
      ]
    },
    {
      "cell_type": "code",
      "source": [
        "# Función para calcular el factorial de un número\n",
        "def calcular_factorial(n):\n",
        "    factorial = 1\n",
        "\n",
        "    # Bucle while para calcular el factorial\n",
        "    while n > 1:\n",
        "        factorial *= n  # Multiplicar el valor actual de factorial por n\n",
        "        n -= 1  # Decrementar n\n",
        "\n",
        "    return factorial\n",
        "\n",
        "# Solicitar al usuario ingresar un número\n",
        "numero = int(input(\"Ingresa un número para calcular su factorial: \"))\n",
        "\n",
        "# Verificar si el número es negativo\n",
        "if numero < 0:\n",
        "    print(\"El factorial no está definido para números negativos.\")\n",
        "else:\n",
        "    # Llamar a la función y mostrar el resultado\n",
        "    resultado = calcular_factorial(numero)\n",
        "    print(f\"El factorial de {numero} es: {resultado}\")"
      ],
      "metadata": {
        "colab": {
          "base_uri": "https://localhost:8080/"
        },
        "id": "lldWsxpzbD_H",
        "outputId": "016ce0b4-0d36-4941-b522-8fc548e9211e"
      },
      "execution_count": 13,
      "outputs": [
        {
          "output_type": "stream",
          "name": "stdout",
          "text": [
            "Ingresa un número para calcular su factorial: 8\n",
            "El factorial de 8 es: 40320\n"
          ]
        }
      ]
    }
  ]
}
